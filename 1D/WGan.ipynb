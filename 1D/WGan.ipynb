{
 "cells": [
  {
   "cell_type": "code",
   "execution_count": null,
   "id": "dbf73ed6",
   "metadata": {},
   "outputs": [],
   "source": [
    "import plotly.express as px\n",
    "import plotly.graph_objects as go\n",
    "from plotly.colors import n_colors\n",
    "from scipy.stats import norm\n",
    "import numpy as np\n",
    "import pandas as pd\n",
    "from functools import partial"
   ]
  },
  {
   "cell_type": "code",
   "execution_count": null,
   "id": "6bd1f0fe",
   "metadata": {},
   "outputs": [],
   "source": [
    "def gaussian(xaxis, A, B, mu, sigma):\n",
    "    y = B * (1 - norm(loc=mu, scale=sigma).cdf(xaxis) + A) \n",
    "    return y"
   ]
  },
  {
   "cell_type": "code",
   "execution_count": null,
   "id": "e881da1c",
   "metadata": {},
   "outputs": [],
   "source": [
    "from doepy import build"
   ]
  },
  {
   "cell_type": "code",
   "execution_count": null,
   "id": "649f2fcf",
   "metadata": {},
   "outputs": [],
   "source": [
    "def generate_dataset(num_samples=1000):\n",
    "    # levels = {'A': [1, 3], 'B': [0, 1], 'mu': [-2, 2], 'sigma': [0.2, 4]}\n",
    "    levels = {'B': [1, 3], 'mu': [-2, 2], 'sigma': [0.2, 4]}\n",
    "    xaxis = np.linspace(-4, 4)\n",
    "\n",
    "    samples_params = build.space_filling_lhs(levels, num_samples=num_samples)\n",
    "\n",
    "    Y = pd.DataFrame([gaussian(xaxis, 1e-2, *row) for row in samples_params.itertuples(index=False)])\n",
    "    return Y"
   ]
  },
  {
   "cell_type": "code",
   "execution_count": null,
   "id": "dc6d4156",
   "metadata": {},
   "outputs": [],
   "source": [
    "import random\n",
    "\n",
    "def random_split(values:pd.DataFrame, size: float):\n",
    "    train_index = random.sample(list(values.index), int(values.shape[0] * size))\n",
    "    train, test = values.loc[train_index], values.loc[~values.index.isin(train_index)]\n",
    "    return train, test"
   ]
  },
  {
   "cell_type": "code",
   "execution_count": null,
   "id": "058333ad",
   "metadata": {},
   "outputs": [],
   "source": [
    "from sklearn.model_selection import train_test_split\n",
    "from sklearn.preprocessing import StandardScaler\n",
    "from sklearn.decomposition import PCA\n",
    "from sklearn.metrics import mean_squared_error\n",
    "from sklearn.pipeline import make_pipeline"
   ]
  },
  {
   "cell_type": "code",
   "execution_count": null,
   "id": "40eb6cbf",
   "metadata": {},
   "outputs": [],
   "source": [
    "from sklearn.cluster import KMeans\n",
    "from sklearn.metrics import pairwise_distances_argmin_min"
   ]
  },
  {
   "cell_type": "code",
   "execution_count": null,
   "id": "deb4e7e1",
   "metadata": {},
   "outputs": [],
   "source": [
    "Y = generate_dataset()\n",
    "train, test = train_test_split(Y, test_size=0.5)"
   ]
  },
  {
   "cell_type": "code",
   "execution_count": null,
   "id": "b4a36d68-a768-45b3-86c8-1bcb99d55160",
   "metadata": {},
   "outputs": [],
   "source": [
    "import tensorflow.keras as K"
   ]
  },
  {
   "cell_type": "code",
   "execution_count": null,
   "id": "c1da529d-dc41-416f-8609-f4d68607785d",
   "metadata": {},
   "outputs": [],
   "source": [
    "class GANMonitor(K.callbacks.Callback):\n",
    "    def __init__(self, figure_widget):\n",
    "        self.figure_widget = figure_widget\n",
    "        \n",
    "    def on_epoch_end(self, epoch, logs=None):\n",
    "        if epoch % 10 == 0:\n",
    "            with self.figure_widget.batch_update():\n",
    "                c_trace, g_trace = self.figure_widget.data\n",
    "                x = list(c_trace.x)\n",
    "                x.append(x[-1]+1 if len(x) > 0 else 1)\n",
    "\n",
    "                y1 = list(c_trace.y)\n",
    "                y1.append(logs['d_loss'])\n",
    "\n",
    "                y2 = list(g_trace.y)\n",
    "                y2.append(logs['g_loss'])\n",
    "\n",
    "                c_trace.x = x\n",
    "                c_trace.y = y1\n",
    "                g_trace.x = x\n",
    "                g_trace.y = y2\n"
   ]
  },
  {
   "cell_type": "code",
   "execution_count": null,
   "id": "b23b1983-62cf-4139-b6cf-c0af8c68d921",
   "metadata": {},
   "outputs": [],
   "source": [
    "%load_ext autoreload\n",
    "%autoreload 2\n",
    "\n",
    "from GAN import WGANGP"
   ]
  },
  {
   "cell_type": "code",
   "execution_count": null,
   "id": "89083e91-c58b-445c-b3b8-660cb5209e6a",
   "metadata": {},
   "outputs": [],
   "source": [
    "# generator_optimizer = Adam(\n",
    "#     learning_rate=1e-5, \n",
    "    # beta_1=0.5, beta_2=0.9\n",
    "# )\n",
    "# discriminator_optimizer = Adam(\n",
    "#     learning_rate=1e-5, \n",
    "#beta_1=0.5, beta_2=0.9\n",
    "# )\n",
    "generator_optimizer = RMSprop(1e-5)\n",
    "discriminator_optimizer = RMSprop(1e-5)\n",
    "\n",
    "\n",
    "layers = (100, 50, 25)\n",
    "model = WGANGP(train.shape[1], 5, layers, layers[::-1],\n",
    "               gp_weight=1e-2, activation='relu',\n",
    "               critic_extra_steps=3,\n",
    "               critic_dropout=None, generator_dropout=None)\n",
    "\n",
    "model.compile(discriminator_optimizer, generator_optimizer)\n",
    "\n",
    "BATCH_SIZE = 500\n",
    "fig = go.FigureWidget(\n",
    "    [\n",
    "        go.Scatter(x=[], y=[], name='critic'),\n",
    "        go.Scatter(x=[], y=[], name='generator')\n",
    "    ]\n",
    ")\n",
    "\n",
    "callback = GANMonitor(fig)\n",
    "fig"
   ]
  },
  {
   "cell_type": "code",
   "execution_count": null,
   "id": "2e8e227b-1623-4fe7-8faf-6aaafa4ed78b",
   "metadata": {
    "tags": []
   },
   "outputs": [],
   "source": [
    "epochs = 10\n",
    "model.fit(train.values, epochs=epochs, callbacks=[callback])"
   ]
  },
  {
   "cell_type": "code",
   "execution_count": null,
   "id": "353180fc-8da5-4816-9140-59107b2f7758",
   "metadata": {},
   "outputs": [],
   "source": [
    "fig = go.Figure()\n",
    "for row in model.generator(np.random.randn(20, model.latent_dim)).numpy():\n",
    "    fig.add_scatter(y=row)\n",
    "fig"
   ]
  },
  {
   "cell_type": "code",
   "execution_count": null,
   "id": "2cb4bea4-436e-4b58-9626-a0ff963a62a8",
   "metadata": {},
   "outputs": [],
   "source": [
    "fig = go.Figure()\n",
    "for row in train.sample(20).values:\n",
    "    fig.add_scatter(y=row)\n",
    "fig"
   ]
  },
  {
   "cell_type": "code",
   "execution_count": null,
   "id": "3453c063-f26c-4023-aae1-152f75b4e723",
   "metadata": {},
   "outputs": [],
   "source": []
  },
  {
   "cell_type": "code",
   "execution_count": null,
   "id": "05145fc4-7ec6-4ae8-ae18-192ff0acfb15",
   "metadata": {},
   "outputs": [],
   "source": [
    "fake = model.generator(random_latent_vectors)"
   ]
  },
  {
   "cell_type": "code",
   "execution_count": null,
   "id": "16cf0b70-227f-4b5a-8a8f-536454696c92",
   "metadata": {},
   "outputs": [],
   "source": [
    "tmp = Y.loc[0:1].values"
   ]
  },
  {
   "cell_type": "code",
   "execution_count": null,
   "id": "e8f9916e-ba45-4ea0-822e-1fa1b785cc1f",
   "metadata": {},
   "outputs": [],
   "source": [
    "model.gradient_penalty(2, tmp, fake)"
   ]
  },
  {
   "cell_type": "code",
   "execution_count": null,
   "id": "62f76813-3f13-4b39-8023-395e4ceb3364",
   "metadata": {},
   "outputs": [],
   "source": []
  },
  {
   "cell_type": "code",
   "execution_count": null,
   "id": "7732a960-31e3-4091-b9f5-4b965d3614c4",
   "metadata": {},
   "outputs": [],
   "source": []
  }
 ],
 "metadata": {
  "kernelspec": {
   "display_name": "Python 3 (ipykernel)",
   "language": "python",
   "name": "python3"
  },
  "language_info": {
   "codemirror_mode": {
    "name": "ipython",
    "version": 3
   },
   "file_extension": ".py",
   "mimetype": "text/x-python",
   "name": "python",
   "nbconvert_exporter": "python",
   "pygments_lexer": "ipython3",
   "version": "3.9.13"
  }
 },
 "nbformat": 4,
 "nbformat_minor": 5
}
